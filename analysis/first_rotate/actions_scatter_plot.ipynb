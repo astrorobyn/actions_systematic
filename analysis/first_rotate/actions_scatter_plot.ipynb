{
 "cells": [
  {
   "cell_type": "code",
   "execution_count": 1,
   "metadata": {},
   "outputs": [],
   "source": [
    "import matplotlib.pyplot as plt\n",
    "import numpy as np\n",
    "import dill\n",
    "\n",
    "import sys\n",
    "sys.path.append('/Users/abeane/scratch/actions_systematic/runs')\n",
    "sys.path.append('/Users/abeane/scratch/actions_systematic/runs/include')"
   ]
  },
  {
   "cell_type": "code",
   "execution_count": 8,
   "metadata": {},
   "outputs": [],
   "source": [
    "fiducial = dill.load(open('cluster_snapshots_m12i_actions.p', 'rb'))\n",
    "slow = dill.load(open('cluster_snapshots_m12i_slow_actions.p', 'rb'))\n",
    "fast = dill.load(open('cluster_snapshots_m12i_fast_actions.p', 'rb'))"
   ]
  },
  {
   "cell_type": "code",
   "execution_count": 3,
   "metadata": {},
   "outputs": [],
   "source": [
    "time = np.array([f['time'] for f in fiducial])\n",
    "actions_one_star = np.array([f['actions'][2] for f in fiducial])"
   ]
  },
  {
   "cell_type": "code",
   "execution_count": 12,
   "metadata": {},
   "outputs": [],
   "source": [
    "def make_fig(snap, title):\n",
    "    fig, ax = plt.subplots(1,3, figsize=(10, 3))\n",
    "    alpha=0.001\n",
    "    for i in range(len(snap[0]['actions'])):\n",
    "        actions_one_star = np.array([f['actions'][i] for f in snap])\n",
    "        ax[0].plot(time, actions_one_star[:,0], alpha=alpha)\n",
    "        ax[1].plot(time, actions_one_star[:,1], alpha=alpha)    \n",
    "        ax[2].plot(time, actions_one_star[:,2], alpha=alpha)\n",
    "    fig.tight_layout()\n",
    "    ax[1].set_title(title)"
   ]
  },
  {
   "cell_type": "code",
   "execution_count": 13,
   "metadata": {},
   "outputs": [
    {
     "data": {
      "image/png": "[encoded data removed]",
      "text/plain": [
       "<Figure size 720x216 with 3 Axes>"
      ]
     },
     "metadata": {
      "needs_background": "light"
     },
     "output_type": "display_data"
    }
   ],
   "source": [
    "make_fig(fiducial, 'fiducial')"
   ]
  },
  {
   "cell_type": "code",
   "execution_count": 14,
   "metadata": {},
   "outputs": [
    {
     "data": {
      "image/png": "[encoded data removed]",
      "text/plain": [
       "<Figure size 720x216 with 3 Axes>"
      ]
     },
     "metadata": {
      "needs_background": "light"
     },
     "output_type": "display_data"
    }
   ],
   "source": [
    "make_fig(slow, 'slow')"
   ]
  },
  {
   "cell_type": "code",
   "execution_count": 15,
   "metadata": {},
   "outputs": [
    {
     "data": {
      "image/png": "[encoded data removed]",
      "text/plain": [
       "<Figure size 720x216 with 3 Axes>"
      ]
     },
     "metadata": {
      "needs_background": "light"
     },
     "output_type": "display_data"
    }
   ],
   "source": [
    "make_fig(fast, 'fast')"
   ]
  },
  {
   "cell_type": "markdown",
   "metadata": {},
   "source": [
    "# Now let's optimize"
   ]
  },
  {
   "cell_type": "code",
   "execution_count": 10,
   "metadata": {},
   "outputs": [],
   "source": [
    "from scipy.optimize import minimize"
   ]
  },
  {
   "cell_type": "code",
   "execution_count": 11,
   "metadata": {},
   "outputs": [],
   "source": [
    "def euler_matrix(theta) :\n",
    "    R_x = np.array([[1,         0,                  0                   ],\n",
    "                    [0,         np.cos(theta[0]), -np.sin(theta[0]) ],\n",
    "                    [0,         np.sin(theta[0]), np.cos(theta[0])  ]\n",
    "                    ])\n",
    "    R_y = np.array([[np.cos(theta[1]),    0,      np.sin(theta[1])  ],\n",
    "                    [0,                     1,      0                   ],\n",
    "                    [-np.sin(theta[1]),   0,      np.cos(theta[1])  ]\n",
    "                    ])\n",
    "    R_z = np.array([[np.cos(theta[2]),    -np.sin(theta[2]),    0],\n",
    "                    [np.sin(theta[2]),    np.cos(theta[2]),     0],\n",
    "                    [0,                     0,                      1]\n",
    "                    ])\n",
    "    R = np.dot(R_z, np.dot( R_y, R_x ))\n",
    "    return R"
   ]
  },
  {
   "cell_type": "code",
   "execution_count": null,
   "metadata": {},
   "outputs": [],
   "source": [
    "def chisq(x):\n",
    "    "
   ]
  }
 ],
 "metadata": {
  "kernelspec": {
   "display_name": "Python 3",
   "language": "python",
   "name": "python3"
  },
  "language_info": {
   "codemirror_mode": {
    "name": "ipython",
    "version": 3
   },
   "file_extension": ".py",
   "mimetype": "text/x-python",
   "name": "python",
   "nbconvert_exporter": "python",
   "pygments_lexer": "ipython3",
   "version": "3.6.5"
  }
 },
 "nbformat": 4,
 "nbformat_minor": 2
}
